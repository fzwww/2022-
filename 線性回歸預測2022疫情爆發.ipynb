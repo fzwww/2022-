{
 "cells": [
  {
   "cell_type": "code",
   "execution_count": 1,
   "id": "e12b8818",
   "metadata": {},
   "outputs": [],
   "source": [
    "from sklearn.linear_model import LinearRegression\n",
    "from sklearn.preprocessing import PolynomialFeatures\n",
    "import matplotlib.pyplot as plt\n",
    "import numpy as np"
   ]
  },
  {
   "cell_type": "markdown",
   "id": "646c46b4",
   "metadata": {},
   "source": [
    "## 原始數據"
   ]
  },
  {
   "cell_type": "code",
   "execution_count": 2,
   "id": "58189c10",
   "metadata": {},
   "outputs": [],
   "source": [
    "n = 35\n",
    "x = [*range(n)]\n",
    "y = [33, 56 , 87, 104, 160 ,183, 133, 216, 281, 382, 384, 442, 431, 439, 551, 744, 874, 1209, 1199, 1210, 1390, 1626, 2386, 2969, 3766, 4126, 5172, 5221, 6339, 8923, 11517, 12313, 15033, 17085, 17858]\n",
    "x = np.array(x).reshape(-1, 1)\n",
    "y = np.array(y).reshape(-1, 1)"
   ]
  },
  {
   "cell_type": "code",
   "execution_count": 3,
   "id": "27168ed5",
   "metadata": {},
   "outputs": [
    {
     "name": "stdout",
     "output_type": "stream",
     "text": [
      "34天前 [33]\n",
      "33天前 [56]\n",
      "32天前 [87]\n",
      "31天前 [104]\n",
      "30天前 [160]\n",
      "29天前 [183]\n",
      "28天前 [133]\n",
      "27天前 [216]\n",
      "26天前 [281]\n",
      "25天前 [382]\n",
      "24天前 [384]\n",
      "23天前 [442]\n",
      "22天前 [431]\n",
      "21天前 [439]\n",
      "20天前 [551]\n",
      "19天前 [744]\n",
      "18天前 [874]\n",
      "17天前 [1209]\n",
      "16天前 [1199]\n",
      "15天前 [1210]\n",
      "14天前 [1390]\n",
      "13天前 [1626]\n",
      "12天前 [2386]\n",
      "11天前 [2969]\n",
      "10天前 [3766]\n",
      "9天前 [4126]\n",
      "8天前 [5172]\n",
      "7天前 [5221]\n",
      "6天前 [6339]\n",
      "5天前 [8923]\n",
      "4天前 [11517]\n",
      "3天前 [12313]\n",
      "2天前 [15033]\n",
      "1天前 [17085]\n",
      "0天前 [17858]\n"
     ]
    },
    {
     "data": {
      "text/plain": [
       "<matplotlib.collections.PathCollection at 0x255b7a16c10>"
      ]
     },
     "execution_count": 3,
     "metadata": {},
     "output_type": "execute_result"
    },
    {
     "data": {
      "image/png": "[encoded data removed]",
      "text/plain": [
       "<Figure size 432x288 with 1 Axes>"
      ]
     },
     "metadata": {
      "needs_background": "light"
     },
     "output_type": "display_data"
    }
   ],
   "source": [
    "print(*[f'{n-i-1}天前 {y[i]}' for i in range(n)], sep='\\n')\n",
    "plt.scatter(x, y)"
   ]
  },
  {
   "cell_type": "markdown",
   "id": "b141d020",
   "metadata": {},
   "source": [
    "## 使用多項式回歸"
   ]
  },
  {
   "cell_type": "markdown",
   "id": "5d3b03bc",
   "metadata": {},
   "source": [
    "### degree = 5"
   ]
  },
  {
   "cell_type": "code",
   "execution_count": 4,
   "id": "1692785a",
   "metadata": {},
   "outputs": [
    {
     "data": {
      "text/plain": [
       "array([[21247.96721515],\n",
       "       [23868.23984857],\n",
       "       [26618.70552685],\n",
       "       [29478.64784723],\n",
       "       [32423.043753  ],\n",
       "       [35422.31062995],\n",
       "       [38442.05340285],\n",
       "       [41442.81163193],\n",
       "       [44379.80660935],\n",
       "       [47202.68845567],\n",
       "       [49855.28321633],\n",
       "       [52275.33995808],\n",
       "       [54394.27786553],\n",
       "       [56136.93333755],\n",
       "       [57421.30708378],\n",
       "       [58158.3112211 ],\n",
       "       [58251.51637009],\n",
       "       [57596.89875149],\n",
       "       [56082.58728272],\n",
       "       [53588.6106743 ]])"
      ]
     },
     "metadata": {},
     "output_type": "display_data"
    },
    {
     "data": {
      "image/png": "[encoded data removed]",
      "text/plain": [
       "<Figure size 432x288 with 1 Axes>"
      ]
     },
     "metadata": {
      "needs_background": "light"
     },
     "output_type": "display_data"
    }
   ],
   "source": [
    "poly = PolynomialFeatures(degree=5)\n",
    "x_poly = poly.fit_transform(x)\n",
    "model2 = LinearRegression()\n",
    "model2.fit(x_poly, y)\n",
    "\n",
    "nx = np.array([*range(n, n+20)]).reshape(-1, 1)\n",
    "px = poly.fit_transform(nx)\n",
    "ny = model2.predict(px)\n",
    "plt.scatter(x, y)\n",
    "plt.scatter(nx, ny, color='red')\n",
    "display(ny)"
   ]
  },
  {
   "cell_type": "markdown",
   "id": "be71f033",
   "metadata": {},
   "source": [
    "## degree = 4"
   ]
  },
  {
   "cell_type": "code",
   "execution_count": 5,
   "id": "8c1e339a",
   "metadata": {},
   "outputs": [
    {
     "data": {
      "text/plain": [
       "array([[ 21908.33445871],\n",
       "       [ 25078.91312625],\n",
       "       [ 28587.9087433 ],\n",
       "       [ 32458.44151859],\n",
       "       [ 36714.38307747],\n",
       "       [ 41380.35646184],\n",
       "       [ 46481.73613025],\n",
       "       [ 52044.64795781],\n",
       "       [ 58095.96923622],\n",
       "       [ 64663.32867381],\n",
       "       [ 71775.10639547],\n",
       "       [ 79460.43394271],\n",
       "       [ 87749.19427362],\n",
       "       [ 96672.02176289],\n",
       "       [106260.30220181],\n",
       "       [116546.17279825],\n",
       "       [127562.5221767 ],\n",
       "       [139342.99037823],\n",
       "       [151921.96886051],\n",
       "       [165334.6004978 ]])"
      ]
     },
     "metadata": {},
     "output_type": "display_data"
    },
    {
     "data": {
      "image/png": "[encoded data removed]",
      "text/plain": [
       "<Figure size 432x288 with 1 Axes>"
      ]
     },
     "metadata": {
      "needs_background": "light"
     },
     "output_type": "display_data"
    }
   ],
   "source": [
    "poly = PolynomialFeatures(degree=4)\n",
    "x_poly = poly.fit_transform(x)\n",
    "model3 = LinearRegression()\n",
    "model3.fit(x_poly, y)\n",
    "\n",
    "nx = np.array([*range(n, n+20)]).reshape(-1, 1)\n",
    "px = poly.fit_transform(nx)\n",
    "ny = model3.predict(px)\n",
    "plt.scatter(x, y)\n",
    "plt.scatter(nx, ny, color='red')\n",
    "display(ny)"
   ]
  }
 ],
 "metadata": {
  "kernelspec": {
   "display_name": "Python 3 (ipykernel)",
   "language": "python",
   "name": "python3"
  },
  "language_info": {
   "codemirror_mode": {
    "name": "ipython",
    "version": 3
   },
   "file_extension": ".py",
   "mimetype": "text/x-python",
   "name": "python",
   "nbconvert_exporter": "python",
   "pygments_lexer": "ipython3",
   "version": "3.8.8"
  }
 },
 "nbformat": 4,
 "nbformat_minor": 5
}
