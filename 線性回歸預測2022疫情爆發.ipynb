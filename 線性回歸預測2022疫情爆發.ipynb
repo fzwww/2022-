{
 "cells": [
  {
   "cell_type": "code",
   "execution_count": 1,
   "id": "e12b8818",
   "metadata": {},
   "outputs": [],
   "source": [
    "from sklearn.linear_model import LinearRegression\n",
    "from sklearn.preprocessing import PolynomialFeatures\n",
    "import matplotlib.pyplot as plt\n",
    "import numpy as np"
   ]
  },
  {
   "cell_type": "markdown",
   "id": "646c46b4",
   "metadata": {},
   "source": [
    "## 原始數據"
   ]
  },
  {
   "cell_type": "code",
   "execution_count": 2,
   "id": "58189c10",
   "metadata": {},
   "outputs": [],
   "source": [
    "y = [33, 56 , 87, 104, 160 ,183, 133, 216, 281, 382, 384, 442, 431, 439, 551, 744, 874, 1209, 1199, 1210, 1390, 1626, 2386, 2969, 3766, 4126, 5172, 5221, 6339, 8923, 11517, 12313, 15033, 17085, 17858, 23139, 28460, 30035, 36168, 46377, 44294]\n",
    "n = len(y)\n",
    "x = [*range(n)]\n",
    "x = np.array(x).reshape(-1, 1)\n",
    "y = np.array(y).reshape(-1, 1)"
   ]
  },
  {
   "cell_type": "code",
   "execution_count": 3,
   "id": "27168ed5",
   "metadata": {},
   "outputs": [
    {
     "name": "stdout",
     "output_type": "stream",
     "text": [
      "40天前 [33]\n",
      "39天前 [56]\n",
      "38天前 [87]\n",
      "37天前 [104]\n",
      "36天前 [160]\n",
      "35天前 [183]\n",
      "34天前 [133]\n",
      "33天前 [216]\n",
      "32天前 [281]\n",
      "31天前 [382]\n",
      "30天前 [384]\n",
      "29天前 [442]\n",
      "28天前 [431]\n",
      "27天前 [439]\n",
      "26天前 [551]\n",
      "25天前 [744]\n",
      "24天前 [874]\n",
      "23天前 [1209]\n",
      "22天前 [1199]\n",
      "21天前 [1210]\n",
      "20天前 [1390]\n",
      "19天前 [1626]\n",
      "18天前 [2386]\n",
      "17天前 [2969]\n",
      "16天前 [3766]\n",
      "15天前 [4126]\n",
      "14天前 [5172]\n",
      "13天前 [5221]\n",
      "12天前 [6339]\n",
      "11天前 [8923]\n",
      "10天前 [11517]\n",
      "9天前 [12313]\n",
      "8天前 [15033]\n",
      "7天前 [17085]\n",
      "6天前 [17858]\n",
      "5天前 [23139]\n",
      "4天前 [28460]\n",
      "3天前 [30035]\n",
      "2天前 [36168]\n",
      "1天前 [46377]\n",
      "0天前 [44294]\n"
     ]
    },
    {
     "data": {
      "text/plain": [
       "<matplotlib.collections.PathCollection at 0x2bcb01438b0>"
      ]
     },
     "execution_count": 3,
     "metadata": {},
     "output_type": "execute_result"
    },
    {
     "data": {
      "image/png": "[encoded data removed]",
      "text/plain": [
       "<Figure size 432x288 with 1 Axes>"
      ]
     },
     "metadata": {
      "needs_background": "light"
     },
     "output_type": "display_data"
    }
   ],
   "source": [
    "print(*[f'{n-i-1}天前 {y[i]}' for i in range(n)], sep='\\n')\n",
    "plt.scatter(x, y)"
   ]
  },
  {
   "cell_type": "markdown",
   "id": "b141d020",
   "metadata": {},
   "source": [
    "## 使用多項式回歸"
   ]
  },
  {
   "cell_type": "markdown",
   "id": "5d3b03bc",
   "metadata": {},
   "source": [
    "### degree = 5"
   ]
  },
  {
   "cell_type": "code",
   "execution_count": 4,
   "id": "1692785a",
   "metadata": {},
   "outputs": [
    {
     "data": {
      "text/plain": [
       "array([[ 53854.68536919],\n",
       "       [ 60993.51600346],\n",
       "       [ 68838.80207365],\n",
       "       [ 77436.35654262],\n",
       "       [ 86833.47815404],\n",
       "       [ 97078.95598798],\n",
       "       [108223.07401646],\n",
       "       [120317.61565894],\n",
       "       [133415.86833798],\n",
       "       [147572.62803468],\n",
       "       [162844.20384433],\n",
       "       [179288.42253188],\n",
       "       [196964.63308756],\n",
       "       [215933.71128239],\n",
       "       [236258.06422376],\n",
       "       [258001.63491096],\n",
       "       [281229.90679074],\n",
       "       [306009.90831288],\n",
       "       [332410.2174857 ],\n",
       "       [360500.96643168]])"
      ]
     },
     "metadata": {},
     "output_type": "display_data"
    },
    {
     "data": {
      "image/png": "[encoded data removed]",
      "text/plain": [
       "<Figure size 432x288 with 1 Axes>"
      ]
     },
     "metadata": {
      "needs_background": "light"
     },
     "output_type": "display_data"
    }
   ],
   "source": [
    "poly = PolynomialFeatures(degree=5)\n",
    "x_poly = poly.fit_transform(x)\n",
    "model2 = LinearRegression()\n",
    "model2.fit(x_poly, y)\n",
    "\n",
    "nx = np.array([*range(n, n+20)]).reshape(-1, 1)\n",
    "px = poly.fit_transform(nx)\n",
    "ny = model2.predict(px)\n",
    "plt.scatter(x, y)\n",
    "plt.scatter(nx, ny, color='red')\n",
    "display(ny)"
   ]
  },
  {
   "cell_type": "markdown",
   "id": "be71f033",
   "metadata": {},
   "source": [
    "## degree = 4"
   ]
  },
  {
   "cell_type": "code",
   "execution_count": 5,
   "id": "8c1e339a",
   "metadata": {},
   "outputs": [
    {
     "data": {
      "text/plain": [
       "array([[ 53829.90543871],\n",
       "       [ 60951.03612321],\n",
       "       [ 68772.85946934],\n",
       "       [ 77340.1406628 ],\n",
       "       [ 86699.02589242],\n",
       "       [ 96897.04235014],\n",
       "       [107983.09823103],\n",
       "       [120007.48273324],\n",
       "       [133021.86605808],\n",
       "       [147079.29940995],\n",
       "       [162234.21499637],\n",
       "       [178542.42602796],\n",
       "       [196061.12671848],\n",
       "       [214848.8922848 ],\n",
       "       [234965.67894689],\n",
       "       [256472.82392785],\n",
       "       [279433.04545389],\n",
       "       [303910.44275433],\n",
       "       [329970.49606162],\n",
       "       [357680.0666113 ],\n",
       "       [387107.39664206],\n",
       "       [418322.10939568],\n",
       "       [451395.20911705],\n",
       "       [486399.0810542 ],\n",
       "       [523407.49145825],\n",
       "       [562495.58758346],\n",
       "       [603739.89768718],\n",
       "       [647218.3310299 ],\n",
       "       [693010.1778752 ],\n",
       "       [741196.10948979]])"
      ]
     },
     "metadata": {},
     "output_type": "display_data"
    },
    {
     "data": {
      "image/png": "[encoded data removed]",
      "text/plain": [
       "<Figure size 432x288 with 1 Axes>"
      ]
     },
     "metadata": {
      "needs_background": "light"
     },
     "output_type": "display_data"
    }
   ],
   "source": [
    "poly = PolynomialFeatures(degree=4)\n",
    "x_poly = poly.fit_transform(x)\n",
    "model3 = LinearRegression()\n",
    "model3.fit(x_poly, y)\n",
    "\n",
    "nx = np.array([*range(n, n+30)]).reshape(-1, 1)\n",
    "px = poly.fit_transform(nx)\n",
    "ny = model3.predict(px)\n",
    "plt.scatter(x, y)\n",
    "plt.scatter(nx, ny, color='red')\n",
    "display(ny)"
   ]
  }
 ],
 "metadata": {
  "kernelspec": {
   "display_name": "Python 3 (ipykernel)",
   "language": "python",
   "name": "python3"
  },
  "language_info": {
   "codemirror_mode": {
    "name": "ipython",
    "version": 3
   },
   "file_extension": ".py",
   "mimetype": "text/x-python",
   "name": "python",
   "nbconvert_exporter": "python",
   "pygments_lexer": "ipython3",
   "version": "3.8.8"
  }
 },
 "nbformat": 4,
 "nbformat_minor": 5
}
