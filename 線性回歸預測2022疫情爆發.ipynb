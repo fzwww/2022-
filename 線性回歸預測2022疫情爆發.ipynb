{
 "cells": [
  {
   "cell_type": "code",
   "execution_count": 1,
   "id": "e12b8818",
   "metadata": {},
   "outputs": [],
   "source": [
    "from sklearn.linear_model import LinearRegression\n",
    "from sklearn.preprocessing import PolynomialFeatures\n",
    "import matplotlib.pyplot as plt\n",
    "import numpy as np"
   ]
  },
  {
   "cell_type": "markdown",
   "id": "646c46b4",
   "metadata": {},
   "source": [
    "## 原始數據"
   ]
  },
  {
   "cell_type": "code",
   "execution_count": 2,
   "id": "58189c10",
   "metadata": {},
   "outputs": [],
   "source": [
    "n = 32\n",
    "x = [*range(n)]\n",
    "y = [33, 56 , 87, 104, 160 ,183, 133, 216, 281, 382, 384, 442, 431, 439, 551, 744, 874, 1209, 1199, 1210, 1390, 1626, 2386, 2969, 3766, 4126, 5172, 5221, 6339, 8923, 11517, 12313]\n",
    "x = np.array(x).reshape(-1, 1)\n",
    "y = np.array(y).reshape(-1, 1)"
   ]
  },
  {
   "cell_type": "code",
   "execution_count": 3,
   "id": "27168ed5",
   "metadata": {},
   "outputs": [
    {
     "data": {
      "text/plain": [
       "<matplotlib.collections.PathCollection at 0x23faefe8670>"
      ]
     },
     "execution_count": 3,
     "metadata": {},
     "output_type": "execute_result"
    },
    {
     "data": {
      "image/png": "[encoded data removed]",
      "text/plain": [
       "<Figure size 432x288 with 1 Axes>"
      ]
     },
     "metadata": {
      "needs_background": "light"
     },
     "output_type": "display_data"
    }
   ],
   "source": [
    "plt.scatter(x, y)"
   ]
  },
  {
   "cell_type": "markdown",
   "id": "b141d020",
   "metadata": {},
   "source": [
    "## 使用多項式回歸"
   ]
  },
  {
   "cell_type": "markdown",
   "id": "5d3b03bc",
   "metadata": {},
   "source": [
    "### degree = 5"
   ]
  },
  {
   "cell_type": "code",
   "execution_count": 4,
   "id": "1692785a",
   "metadata": {},
   "outputs": [
    {
     "data": {
      "text/plain": [
       "array([[ 15388.84633341],\n",
       "       [ 18493.35734726],\n",
       "       [ 22142.02445206],\n",
       "       [ 26407.51594037],\n",
       "       [ 31368.83600209],\n",
       "       [ 37111.59068296],\n",
       "       [ 43728.25384314],\n",
       "       [ 51318.43311566],\n",
       "       [ 59989.13586501],\n",
       "       [ 69855.03514564],\n",
       "       [ 81038.73566048],\n",
       "       [ 93671.03971947],\n",
       "       [107891.21319809],\n",
       "       [123847.25149589],\n",
       "       [141696.145495  ],\n",
       "       [161604.14751866],\n",
       "       [183747.03728976],\n",
       "       [208310.38788935],\n",
       "       [235489.83171517],\n",
       "       [265491.32644017]])"
      ]
     },
     "metadata": {},
     "output_type": "display_data"
    },
    {
     "data": {
      "image/png": "[encoded data removed]",
      "text/plain": [
       "<Figure size 432x288 with 1 Axes>"
      ]
     },
     "metadata": {
      "needs_background": "light"
     },
     "output_type": "display_data"
    }
   ],
   "source": [
    "poly = PolynomialFeatures(degree=5)\n",
    "x_poly = poly.fit_transform(x)\n",
    "model2 = LinearRegression()\n",
    "model2.fit(x_poly, y)\n",
    "\n",
    "nx = np.array([*range(n, n+20)]).reshape(-1, 1)\n",
    "px = poly.fit_transform(nx)\n",
    "ny = model2.predict(px)\n",
    "plt.scatter(x, y)\n",
    "plt.scatter(nx, ny, color='red')\n",
    "display(ny)"
   ]
  },
  {
   "cell_type": "markdown",
   "id": "be71f033",
   "metadata": {},
   "source": [
    "## degree = 4"
   ]
  },
  {
   "cell_type": "code",
   "execution_count": 5,
   "id": "8c1e339a",
   "metadata": {},
   "outputs": [
    {
     "data": {
      "text/plain": [
       "array([[ 14928.80457452],\n",
       "       [ 17615.0958072 ],\n",
       "       [ 20673.33498561],\n",
       "       [ 24136.82854054],\n",
       "       [ 28040.29856739],\n",
       "       [ 32419.88282619],\n",
       "       [ 37313.13474156],\n",
       "       [ 42759.02340276],\n",
       "       [ 48797.93356362],\n",
       "       [ 55471.66564264],\n",
       "       [ 62823.43572287],\n",
       "       [ 70897.87555202],\n",
       "       [ 79741.0325424 ],\n",
       "       [ 89400.36977092],\n",
       "       [ 99924.76597911],\n",
       "       [111364.51557312],\n",
       "       [123771.3286237 ],\n",
       "       [137198.33086622],\n",
       "       [151700.06370066],\n",
       "       [167332.48419162]])"
      ]
     },
     "metadata": {},
     "output_type": "display_data"
    },
    {
     "data": {
      "image/png": "[encoded data removed]",
      "text/plain": [
       "<Figure size 432x288 with 1 Axes>"
      ]
     },
     "metadata": {
      "needs_background": "light"
     },
     "output_type": "display_data"
    }
   ],
   "source": [
    "poly = PolynomialFeatures(degree=4)\n",
    "x_poly = poly.fit_transform(x)\n",
    "model3 = LinearRegression()\n",
    "model3.fit(x_poly, y)\n",
    "\n",
    "nx = np.array([*range(n, n+20)]).reshape(-1, 1)\n",
    "px = poly.fit_transform(nx)\n",
    "ny = model3.predict(px)\n",
    "plt.scatter(x, y)\n",
    "plt.scatter(nx, ny, color='red')\n",
    "display(ny)"
   ]
  }
 ],
 "metadata": {
  "kernelspec": {
   "display_name": "Python 3 (ipykernel)",
   "language": "python",
   "name": "python3"
  },
  "language_info": {
   "codemirror_mode": {
    "name": "ipython",
    "version": 3
   },
   "file_extension": ".py",
   "mimetype": "text/x-python",
   "name": "python",
   "nbconvert_exporter": "python",
   "pygments_lexer": "ipython3",
   "version": "3.8.8"
  }
 },
 "nbformat": 4,
 "nbformat_minor": 5
}
