{
 "cells": [
  {
   "cell_type": "code",
   "execution_count": 1,
   "id": "e12b8818",
   "metadata": {},
   "outputs": [],
   "source": [
    "from sklearn.linear_model import LinearRegression\n",
    "from sklearn.preprocessing import PolynomialFeatures\n",
    "import matplotlib.pyplot as plt\n",
    "import numpy as np"
   ]
  },
  {
   "cell_type": "markdown",
   "id": "646c46b4",
   "metadata": {},
   "source": [
    "## 原始數據"
   ]
  },
  {
   "cell_type": "code",
   "execution_count": 2,
   "id": "58189c10",
   "metadata": {},
   "outputs": [],
   "source": [
    "n = 24\n",
    "x = [*range(n)]\n",
    "y = [33, 56 , 87, 104, 160 ,183, 133, 216, 281, 382, 384, 442, 431, 439, 551, 744, 874, 1209, 1199, 1210, 1390, 1626, 2386, 2969]\n",
    "x = np.array(x).reshape(-1, 1)\n",
    "y = np.array(y).reshape(-1, 1)"
   ]
  },
  {
   "cell_type": "code",
   "execution_count": 3,
   "id": "27168ed5",
   "metadata": {},
   "outputs": [
    {
     "data": {
      "text/plain": [
       "<matplotlib.collections.PathCollection at 0x1358cf0b340>"
      ]
     },
     "execution_count": 3,
     "metadata": {},
     "output_type": "execute_result"
    },
    {
     "data": {
      "image/png": "[encoded data removed]",
      "text/plain": [
       "<Figure size 432x288 with 1 Axes>"
      ]
     },
     "metadata": {
      "needs_background": "light"
     },
     "output_type": "display_data"
    }
   ],
   "source": [
    "plt.scatter(x, y)"
   ]
  },
  {
   "cell_type": "markdown",
   "id": "f6bcffb0",
   "metadata": {},
   "source": [
    "## 使用線性回歸預測"
   ]
  },
  {
   "cell_type": "code",
   "execution_count": 4,
   "id": "dd02981d",
   "metadata": {},
   "outputs": [
    {
     "data": {
      "text/plain": [
       "LinearRegression()"
      ]
     },
     "execution_count": 4,
     "metadata": {},
     "output_type": "execute_result"
    }
   ],
   "source": [
    "model = LinearRegression()\n",
    "model.fit(x, y)"
   ]
  },
  {
   "cell_type": "code",
   "execution_count": 5,
   "id": "4a80e57f",
   "metadata": {
    "scrolled": false
   },
   "outputs": [
    {
     "data": {
      "text/plain": [
       "<matplotlib.collections.PathCollection at 0x1358f01e7c0>"
      ]
     },
     "execution_count": 5,
     "metadata": {},
     "output_type": "execute_result"
    },
    {
     "data": {
      "image/png": "[encoded data removed]",
      "text/plain": [
       "<Figure size 432x288 with 1 Axes>"
      ]
     },
     "metadata": {
      "needs_background": "light"
     },
     "output_type": "display_data"
    }
   ],
   "source": [
    "nx = np.array([*range(n, 31)]).reshape(-1, 1)\n",
    "predict = model.predict(nx)\n",
    "plt.scatter(x, y)\n",
    "plt.scatter(nx, predict, c='black')"
   ]
  },
  {
   "cell_type": "code",
   "execution_count": 6,
   "id": "1b5666b6",
   "metadata": {},
   "outputs": [
    {
     "name": "stdout",
     "output_type": "stream",
     "text": [
      "[[1916.30072464]\n",
      " [2011.30811594]\n",
      " [2106.31550725]\n",
      " [2201.32289855]\n",
      " [2296.33028986]\n",
      " [2391.33768116]\n",
      " [2486.34507246]]\n"
     ]
    }
   ],
   "source": [
    "print(predict)"
   ]
  },
  {
   "cell_type": "markdown",
   "id": "b141d020",
   "metadata": {},
   "source": [
    "## 使用多項式回歸"
   ]
  },
  {
   "cell_type": "markdown",
   "id": "5d3b03bc",
   "metadata": {},
   "source": [
    "### degree = 4"
   ]
  },
  {
   "cell_type": "code",
   "execution_count": 36,
   "id": "1692785a",
   "metadata": {},
   "outputs": [
    {
     "data": {
      "text/plain": [
       "array([[ 3470.83646245],\n",
       "       [ 4231.53962451],\n",
       "       [ 5138.68582396],\n",
       "       [ 6210.87475677],\n",
       "       [ 7467.8057591 ],\n",
       "       [ 8930.27780734],\n",
       "       [10620.1895181 ],\n",
       "       [12560.53914818],\n",
       "       [14775.42459462],\n",
       "       [17290.04339466],\n",
       "       [20130.69272577],\n",
       "       [23324.76940562],\n",
       "       [26900.76989209],\n",
       "       [30888.2902833 ],\n",
       "       [35318.02631756],\n",
       "       [40221.77337341]])"
      ]
     },
     "metadata": {},
     "output_type": "display_data"
    },
    {
     "data": {
      "image/png": "[encoded data removed]",
      "text/plain": [
       "<Figure size 432x288 with 1 Axes>"
      ]
     },
     "metadata": {
      "needs_background": "light"
     },
     "output_type": "display_data"
    }
   ],
   "source": [
    "poly = PolynomialFeatures(degree=4)\n",
    "x_poly = poly.fit_transform(x)\n",
    "model2 = LinearRegression()\n",
    "model2.fit(x_poly, y)\n",
    "\n",
    "nx = np.array([*range(n, 40)]).reshape(-1, 1)\n",
    "px = poly.fit_transform(nx)\n",
    "ny = model2.predict(px)\n",
    "plt.scatter(x, y)\n",
    "plt.scatter(nx, ny, color='red')\n",
    "plt.plot(x, y, color='blue')\n",
    "display(ny)"
   ]
  },
  {
   "cell_type": "markdown",
   "id": "ac5e6a3d",
   "metadata": {},
   "source": [
    "## 調整模型"
   ]
  },
  {
   "cell_type": "code",
   "execution_count": 24,
   "id": "e29ecfc7",
   "metadata": {},
   "outputs": [],
   "source": [
    "# 建立一個用來調整的函數\n",
    "def f(start, n, degree):\n",
    "    rx = x[:n]\n",
    "    ry = y[:n]\n",
    "    poly = PolynomialFeatures(degree=degree)\n",
    "    model = LinearRegression()\n",
    "    model.fit(poly.fit_transform(rx), ry)\n",
    "    plt.scatter(rx, ry)\n",
    "    plt.scatter(x[n:], y[n:])\n",
    "    plt.plot(x[n:], model.predict(poly.fit_transform(x[n:])))\n",
    "    print(model.predict(poly.fit_transform(x[n:])))"
   ]
  },
  {
   "cell_type": "code",
   "execution_count": 31,
   "id": "dc8c195d",
   "metadata": {},
   "outputs": [
    {
     "name": "stdout",
     "output_type": "stream",
     "text": [
      "[[2435.80463015]]\n"
     ]
    },
    {
     "data": {
      "image/png": "[encoded data removed]",
      "text/plain": [
       "<Figure size 432x288 with 1 Axes>"
      ]
     },
     "metadata": {
      "needs_background": "light"
     },
     "output_type": "display_data"
    }
   ],
   "source": [
    "f(0, 23, 3)"
   ]
  },
  {
   "cell_type": "code",
   "execution_count": 11,
   "id": "221f7ba6",
   "metadata": {},
   "outputs": [
    {
     "name": "stdout",
     "output_type": "stream",
     "text": [
      "[2386]\n"
     ]
    }
   ],
   "source": [
    "print(y[22])"
   ]
  },
  {
   "cell_type": "code",
   "execution_count": 23,
   "id": "a2eee197",
   "metadata": {
    "scrolled": true
   },
   "outputs": [
    {
     "name": "stdout",
     "output_type": "stream",
     "text": [
      "[[2435.80463015]]\n"
     ]
    },
    {
     "data": {
      "image/png": "[encoded data removed]",
      "text/plain": [
       "<Figure size 432x288 with 1 Axes>"
      ]
     },
     "metadata": {
      "needs_background": "light"
     },
     "output_type": "display_data"
    }
   ],
   "source": [
    "f(0, 23, 3)"
   ]
  },
  {
   "cell_type": "markdown",
   "id": "be71f033",
   "metadata": {},
   "source": [
    "## 由上面發現degree = 3時較接近真實結果"
   ]
  },
  {
   "cell_type": "code",
   "execution_count": 39,
   "id": "8c1e339a",
   "metadata": {},
   "outputs": [
    {
     "data": {
      "text/plain": [
       "array([[ 3149.1916996 ],\n",
       "       [ 3652.57905138],\n",
       "       [ 4213.33858316],\n",
       "       [ 4834.67502787],\n",
       "       [ 5519.79311848],\n",
       "       [ 6271.89758792],\n",
       "       [ 7094.19316915],\n",
       "       [ 7989.88459512],\n",
       "       [ 8962.17659876],\n",
       "       [10014.27391304],\n",
       "       [11149.3812709 ],\n",
       "       [12370.70340529],\n",
       "       [13681.44504915],\n",
       "       [15084.81093544],\n",
       "       [16584.0057971 ],\n",
       "       [18182.23436708],\n",
       "       [19882.70137833],\n",
       "       [21688.6115638 ],\n",
       "       [23603.16965643],\n",
       "       [25629.58038918]])"
      ]
     },
     "metadata": {},
     "output_type": "display_data"
    },
    {
     "data": {
      "image/png": "[encoded data removed]",
      "text/plain": [
       "<Figure size 432x288 with 1 Axes>"
      ]
     },
     "metadata": {
      "needs_background": "light"
     },
     "output_type": "display_data"
    }
   ],
   "source": [
    "poly = PolynomialFeatures(degree=3)\n",
    "x_poly = poly.fit_transform(x)\n",
    "model3 = LinearRegression()\n",
    "model3.fit(x_poly, y)\n",
    "\n",
    "nx = np.array([*range(n, n+20)]).reshape(-1, 1)\n",
    "px = poly.fit_transform(nx)\n",
    "ny = model3.predict(px)\n",
    "plt.scatter(x, y)\n",
    "plt.scatter(nx, ny, color='red')\n",
    "display(ny)"
   ]
  }
 ],
 "metadata": {
  "kernelspec": {
   "display_name": "Python 3 (ipykernel)",
   "language": "python",
   "name": "python3"
  },
  "language_info": {
   "codemirror_mode": {
    "name": "ipython",
    "version": 3
   },
   "file_extension": ".py",
   "mimetype": "text/x-python",
   "name": "python",
   "nbconvert_exporter": "python",
   "pygments_lexer": "ipython3",
   "version": "3.8.8"
  }
 },
 "nbformat": 4,
 "nbformat_minor": 5
}
