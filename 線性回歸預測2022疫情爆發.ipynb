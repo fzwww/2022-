{
 "cells": [
  {
   "cell_type": "code",
   "execution_count": 1,
   "id": "e12b8818",
   "metadata": {},
   "outputs": [],
   "source": [
    "from sklearn.linear_model import LinearRegression\n",
    "from sklearn.preprocessing import PolynomialFeatures\n",
    "import matplotlib.pyplot as plt\n",
    "import numpy as np"
   ]
  },
  {
   "cell_type": "markdown",
   "id": "646c46b4",
   "metadata": {},
   "source": [
    "## 原始數據"
   ]
  },
  {
   "cell_type": "code",
   "execution_count": 2,
   "id": "58189c10",
   "metadata": {},
   "outputs": [],
   "source": [
    "n = 33\n",
    "x = [*range(n)]\n",
    "y = [33, 56 , 87, 104, 160 ,183, 133, 216, 281, 382, 384, 442, 431, 439, 551, 744, 874, 1209, 1199, 1210, 1390, 1626, 2386, 2969, 3766, 4126, 5172, 5221, 6339, 8923, 11517, 12313, 15033]\n",
    "x = np.array(x).reshape(-1, 1)\n",
    "y = np.array(y).reshape(-1, 1)"
   ]
  },
  {
   "cell_type": "code",
   "execution_count": 3,
   "id": "27168ed5",
   "metadata": {},
   "outputs": [
    {
     "data": {
      "text/plain": [
       "<matplotlib.collections.PathCollection at 0x2786c17a6a0>"
      ]
     },
     "execution_count": 3,
     "metadata": {},
     "output_type": "execute_result"
    },
    {
     "data": {
      "image/png": "[encoded data removed]",
      "text/plain": [
       "<Figure size 432x288 with 1 Axes>"
      ]
     },
     "metadata": {
      "needs_background": "light"
     },
     "output_type": "display_data"
    }
   ],
   "source": [
    "plt.scatter(x, y)"
   ]
  },
  {
   "cell_type": "markdown",
   "id": "b141d020",
   "metadata": {},
   "source": [
    "## 使用多項式回歸"
   ]
  },
  {
   "cell_type": "markdown",
   "id": "5d3b03bc",
   "metadata": {},
   "source": [
    "### degree = 5"
   ]
  },
  {
   "cell_type": "code",
   "execution_count": 4,
   "id": "1692785a",
   "metadata": {},
   "outputs": [
    {
     "data": {
      "text/plain": [
       "array([[ 18105.16134752],\n",
       "       [ 21554.0216874 ],\n",
       "       [ 25558.81292048],\n",
       "       [ 30187.12170723],\n",
       "       [ 35511.90223646],\n",
       "       [ 41611.68263295],\n",
       "       [ 48570.77136515],\n",
       "       [ 56479.46365273],\n",
       "       [ 65434.2478743 ],\n",
       "       [ 75538.01197496],\n",
       "       [ 86900.24987402],\n",
       "       [ 99637.2678726 ],\n",
       "       [113872.39106125],\n",
       "       [129736.16972762],\n",
       "       [147366.58576406],\n",
       "       [166909.25907531],\n",
       "       [188517.65398609],\n",
       "       [212353.28564874],\n",
       "       [238585.92645089],\n",
       "       [267393.81242307]])"
      ]
     },
     "metadata": {},
     "output_type": "display_data"
    },
    {
     "data": {
      "image/png": "[encoded data removed]",
      "text/plain": [
       "<Figure size 432x288 with 1 Axes>"
      ]
     },
     "metadata": {
      "needs_background": "light"
     },
     "output_type": "display_data"
    }
   ],
   "source": [
    "poly = PolynomialFeatures(degree=5)\n",
    "x_poly = poly.fit_transform(x)\n",
    "model2 = LinearRegression()\n",
    "model2.fit(x_poly, y)\n",
    "\n",
    "nx = np.array([*range(n, n+20)]).reshape(-1, 1)\n",
    "px = poly.fit_transform(nx)\n",
    "ny = model2.predict(px)\n",
    "plt.scatter(x, y)\n",
    "plt.scatter(nx, ny, color='red')\n",
    "display(ny)"
   ]
  },
  {
   "cell_type": "markdown",
   "id": "be71f033",
   "metadata": {},
   "source": [
    "## degree = 4"
   ]
  },
  {
   "cell_type": "code",
   "execution_count": 5,
   "id": "8c1e339a",
   "metadata": {},
   "outputs": [
    {
     "data": {
      "text/plain": [
       "array([[ 17694.03173561],\n",
       "       [ 20780.13065345],\n",
       "       [ 24277.0558957 ],\n",
       "       [ 28220.14866309],\n",
       "       [ 32646.19593959],\n",
       "       [ 37593.43049242],\n",
       "       [ 43101.53087207],\n",
       "       [ 49211.62141226],\n",
       "       [ 55966.27222996],\n",
       "       [ 63409.49922541],\n",
       "       [ 71586.76408206],\n",
       "       [ 80544.97426666],\n",
       "       [ 90332.48302917],\n",
       "       [100999.08940282],\n",
       "       [112596.03820408],\n",
       "       [125176.02003268],\n",
       "       [138793.17127158],\n",
       "       [153503.07408702],\n",
       "       [169362.75642846],\n",
       "       [186430.69202862]])"
      ]
     },
     "metadata": {},
     "output_type": "display_data"
    },
    {
     "data": {
      "image/png": "[encoded data removed]",
      "text/plain": [
       "<Figure size 432x288 with 1 Axes>"
      ]
     },
     "metadata": {
      "needs_background": "light"
     },
     "output_type": "display_data"
    }
   ],
   "source": [
    "poly = PolynomialFeatures(degree=4)\n",
    "x_poly = poly.fit_transform(x)\n",
    "model3 = LinearRegression()\n",
    "model3.fit(x_poly, y)\n",
    "\n",
    "nx = np.array([*range(n, n+20)]).reshape(-1, 1)\n",
    "px = poly.fit_transform(nx)\n",
    "ny = model3.predict(px)\n",
    "plt.scatter(x, y)\n",
    "plt.scatter(nx, ny, color='red')\n",
    "display(ny)"
   ]
  }
 ],
 "metadata": {
  "kernelspec": {
   "display_name": "Python 3 (ipykernel)",
   "language": "python",
   "name": "python3"
  },
  "language_info": {
   "codemirror_mode": {
    "name": "ipython",
    "version": 3
   },
   "file_extension": ".py",
   "mimetype": "text/x-python",
   "name": "python",
   "nbconvert_exporter": "python",
   "pygments_lexer": "ipython3",
   "version": "3.8.8"
  }
 },
 "nbformat": 4,
 "nbformat_minor": 5
}
