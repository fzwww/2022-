{
 "cells": [
  {
   "cell_type": "code",
   "execution_count": 1,
   "id": "e12b8818",
   "metadata": {},
   "outputs": [],
   "source": [
    "from sklearn.linear_model import LinearRegression\n",
    "from sklearn.preprocessing import PolynomialFeatures\n",
    "import matplotlib.pyplot as plt\n",
    "import numpy as np"
   ]
  },
  {
   "cell_type": "markdown",
   "id": "646c46b4",
   "metadata": {},
   "source": [
    "## 原始數據"
   ]
  },
  {
   "cell_type": "code",
   "execution_count": 2,
   "id": "58189c10",
   "metadata": {},
   "outputs": [],
   "source": [
    "n = 36\n",
    "x = [*range(n)]\n",
    "y = [33, 56 , 87, 104, 160 ,183, 133, 216, 281, 382, 384, 442, 431, 439, 551, 744, 874, 1209, 1199, 1210, 1390, 1626, 2386, 2969, 3766, 4126, 5172, 5221, 6339, 8923, 11517, 12313, 15033, 17085, 17858, 23139]\n",
    "x = np.array(x).reshape(-1, 1)\n",
    "y = np.array(y).reshape(-1, 1)"
   ]
  },
  {
   "cell_type": "code",
   "execution_count": 3,
   "id": "27168ed5",
   "metadata": {},
   "outputs": [
    {
     "name": "stdout",
     "output_type": "stream",
     "text": [
      "35天前 [33]\n",
      "34天前 [56]\n",
      "33天前 [87]\n",
      "32天前 [104]\n",
      "31天前 [160]\n",
      "30天前 [183]\n",
      "29天前 [133]\n",
      "28天前 [216]\n",
      "27天前 [281]\n",
      "26天前 [382]\n",
      "25天前 [384]\n",
      "24天前 [442]\n",
      "23天前 [431]\n",
      "22天前 [439]\n",
      "21天前 [551]\n",
      "20天前 [744]\n",
      "19天前 [874]\n",
      "18天前 [1209]\n",
      "17天前 [1199]\n",
      "16天前 [1210]\n",
      "15天前 [1390]\n",
      "14天前 [1626]\n",
      "13天前 [2386]\n",
      "12天前 [2969]\n",
      "11天前 [3766]\n",
      "10天前 [4126]\n",
      "9天前 [5172]\n",
      "8天前 [5221]\n",
      "7天前 [6339]\n",
      "6天前 [8923]\n",
      "5天前 [11517]\n",
      "4天前 [12313]\n",
      "3天前 [15033]\n",
      "2天前 [17085]\n",
      "1天前 [17858]\n",
      "0天前 [23139]\n"
     ]
    },
    {
     "data": {
      "text/plain": [
       "<matplotlib.collections.PathCollection at 0x1cb18a56c40>"
      ]
     },
     "execution_count": 3,
     "metadata": {},
     "output_type": "execute_result"
    },
    {
     "data": {
      "image/png": "[encoded data removed]",
      "text/plain": [
       "<Figure size 432x288 with 1 Axes>"
      ]
     },
     "metadata": {
      "needs_background": "light"
     },
     "output_type": "display_data"
    }
   ],
   "source": [
    "print(*[f'{n-i-1}天前 {y[i]}' for i in range(n)], sep='\\n')\n",
    "plt.scatter(x, y)"
   ]
  },
  {
   "cell_type": "markdown",
   "id": "b141d020",
   "metadata": {},
   "source": [
    "## 使用多項式回歸"
   ]
  },
  {
   "cell_type": "markdown",
   "id": "5d3b03bc",
   "metadata": {},
   "source": [
    "### degree = 5"
   ]
  },
  {
   "cell_type": "code",
   "execution_count": 12,
   "id": "1692785a",
   "metadata": {},
   "outputs": [
    {
     "data": {
      "text/plain": [
       "array([[ 25759.27263327],\n",
       "       [ 29404.14570876],\n",
       "       [ 33409.5571518 ],\n",
       "       [ 37793.9368966 ],\n",
       "       [ 42575.50061898],\n",
       "       [ 47772.19113483],\n",
       "       [ 53401.61979857],\n",
       "       [ 59481.00790163],\n",
       "       [ 66027.12807088],\n",
       "       [ 73056.24566713],\n",
       "       [ 80584.06018356],\n",
       "       [ 88625.64664423],\n",
       "       [ 97195.3970025 ],\n",
       "       [106306.96153952],\n",
       "       [115973.19026267],\n",
       "       [126206.07430407],\n",
       "       [137016.68731898],\n",
       "       [148415.12688432],\n",
       "       [160410.4558971 ],\n",
       "       [173010.64397292]])"
      ]
     },
     "metadata": {},
     "output_type": "display_data"
    },
    {
     "data": {
      "image/png": "[encoded data removed]",
      "text/plain": [
       "<Figure size 432x288 with 1 Axes>"
      ]
     },
     "metadata": {
      "needs_background": "light"
     },
     "output_type": "display_data"
    }
   ],
   "source": [
    "poly = PolynomialFeatures(degree=5)\n",
    "x_poly = poly.fit_transform(x)\n",
    "model2 = LinearRegression()\n",
    "model2.fit(x_poly, y)\n",
    "\n",
    "nx = np.array([*range(n, n+20)]).reshape(-1, 1)\n",
    "px = poly.fit_transform(nx)\n",
    "ny = model2.predict(px)\n",
    "plt.scatter(x, y)\n",
    "plt.scatter(nx, ny, color='red')\n",
    "display(ny)"
   ]
  },
  {
   "cell_type": "markdown",
   "id": "be71f033",
   "metadata": {},
   "source": [
    "## degree = 4"
   ]
  },
  {
   "cell_type": "code",
   "execution_count": 5,
   "id": "8c1e339a",
   "metadata": {},
   "outputs": [
    {
     "data": {
      "text/plain": [
       "array([[ 25933.54197437],\n",
       "       [ 29719.71451513],\n",
       "       [ 33918.48312114],\n",
       "       [ 38558.9562287 ],\n",
       "       [ 43671.22934721],\n",
       "       [ 49286.38505916],\n",
       "       [ 55436.49302011],\n",
       "       [ 62154.60995873],\n",
       "       [ 69474.77967678],\n",
       "       [ 77432.03304909],\n",
       "       [ 86062.3880236 ],\n",
       "       [ 95402.84962133],\n",
       "       [105491.40993639],\n",
       "       [116367.04813598],\n",
       "       [128069.73046038],\n",
       "       [140640.41022297],\n",
       "       [154121.02781022],\n",
       "       [168554.51068169],\n",
       "       [183984.77337002],\n",
       "       [200456.71748094]])"
      ]
     },
     "metadata": {},
     "output_type": "display_data"
    },
    {
     "data": {
      "image/png": "[encoded data removed]",
      "text/plain": [
       "<Figure size 432x288 with 1 Axes>"
      ]
     },
     "metadata": {
      "needs_background": "light"
     },
     "output_type": "display_data"
    }
   ],
   "source": [
    "poly = PolynomialFeatures(degree=4)\n",
    "x_poly = poly.fit_transform(x)\n",
    "model3 = LinearRegression()\n",
    "model3.fit(x_poly, y)\n",
    "\n",
    "nx = np.array([*range(n, n+20)]).reshape(-1, 1)\n",
    "px = poly.fit_transform(nx)\n",
    "ny = model3.predict(px)\n",
    "plt.scatter(x, y)\n",
    "plt.scatter(nx, ny, color='red')\n",
    "display(ny)"
   ]
  }
 ],
 "metadata": {
  "kernelspec": {
   "display_name": "Python 3 (ipykernel)",
   "language": "python",
   "name": "python3"
  },
  "language_info": {
   "codemirror_mode": {
    "name": "ipython",
    "version": 3
   },
   "file_extension": ".py",
   "mimetype": "text/x-python",
   "name": "python",
   "nbconvert_exporter": "python",
   "pygments_lexer": "ipython3",
   "version": "3.8.8"
  }
 },
 "nbformat": 4,
 "nbformat_minor": 5
}
