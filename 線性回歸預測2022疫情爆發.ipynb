{
 "cells": [
  {
   "cell_type": "code",
   "execution_count": 1,
   "id": "e12b8818",
   "metadata": {},
   "outputs": [],
   "source": [
    "from sklearn.linear_model import LinearRegression\n",
    "from sklearn.preprocessing import PolynomialFeatures\n",
    "import matplotlib.pyplot as plt\n",
    "import numpy as np"
   ]
  },
  {
   "cell_type": "markdown",
   "id": "646c46b4",
   "metadata": {},
   "source": [
    "## 原始數據"
   ]
  },
  {
   "cell_type": "code",
   "execution_count": 2,
   "id": "58189c10",
   "metadata": {},
   "outputs": [],
   "source": [
    "n = 39\n",
    "x = [*range(n)]\n",
    "y = [33, 56 , 87, 104, 160 ,183, 133, 216, 281, 382, 384, 442, 431, 439, 551, 744, 874, 1209, 1199, 1210, 1390, 1626, 2386, 2969, 3766, 4126, 5172, 5221, 6339, 8923, 11517, 12313, 15033, 17085, 17858, 23139, 28460, 30035, 36168]\n",
    "x = np.array(x).reshape(-1, 1)\n",
    "y = np.array(y).reshape(-1, 1)"
   ]
  },
  {
   "cell_type": "code",
   "execution_count": 3,
   "id": "27168ed5",
   "metadata": {},
   "outputs": [
    {
     "name": "stdout",
     "output_type": "stream",
     "text": [
      "38天前 [33]\n",
      "37天前 [56]\n",
      "36天前 [87]\n",
      "35天前 [104]\n",
      "34天前 [160]\n",
      "33天前 [183]\n",
      "32天前 [133]\n",
      "31天前 [216]\n",
      "30天前 [281]\n",
      "29天前 [382]\n",
      "28天前 [384]\n",
      "27天前 [442]\n",
      "26天前 [431]\n",
      "25天前 [439]\n",
      "24天前 [551]\n",
      "23天前 [744]\n",
      "22天前 [874]\n",
      "21天前 [1209]\n",
      "20天前 [1199]\n",
      "19天前 [1210]\n",
      "18天前 [1390]\n",
      "17天前 [1626]\n",
      "16天前 [2386]\n",
      "15天前 [2969]\n",
      "14天前 [3766]\n",
      "13天前 [4126]\n",
      "12天前 [5172]\n",
      "11天前 [5221]\n",
      "10天前 [6339]\n",
      "9天前 [8923]\n",
      "8天前 [11517]\n",
      "7天前 [12313]\n",
      "6天前 [15033]\n",
      "5天前 [17085]\n",
      "4天前 [17858]\n",
      "3天前 [23139]\n",
      "2天前 [28460]\n",
      "1天前 [30035]\n",
      "0天前 [36168]\n"
     ]
    },
    {
     "data": {
      "text/plain": [
       "<matplotlib.collections.PathCollection at 0x293647f0880>"
      ]
     },
     "execution_count": 3,
     "metadata": {},
     "output_type": "execute_result"
    },
    {
     "data": {
      "image/png": "[encoded data removed]",
      "text/plain": [
       "<Figure size 432x288 with 1 Axes>"
      ]
     },
     "metadata": {
      "needs_background": "light"
     },
     "output_type": "display_data"
    }
   ],
   "source": [
    "print(*[f'{n-i-1}天前 {y[i]}' for i in range(n)], sep='\\n')\n",
    "plt.scatter(x, y)"
   ]
  },
  {
   "cell_type": "markdown",
   "id": "b141d020",
   "metadata": {},
   "source": [
    "## 使用多項式回歸"
   ]
  },
  {
   "cell_type": "markdown",
   "id": "5d3b03bc",
   "metadata": {},
   "source": [
    "### degree = 5"
   ]
  },
  {
   "cell_type": "code",
   "execution_count": 4,
   "id": "1692785a",
   "metadata": {},
   "outputs": [
    {
     "data": {
      "text/plain": [
       "array([[ 41182.1348194 ],\n",
       "       [ 47144.47020487],\n",
       "       [ 53791.7806723 ],\n",
       "       [ 61181.56607952],\n",
       "       [ 69374.43633155],\n",
       "       [ 78434.19247332],\n",
       "       [ 88427.90778246],\n",
       "       [ 99426.00886211],\n",
       "       [111502.35673363],\n",
       "       [124734.32792944],\n",
       "       [139202.89558576],\n",
       "       [154992.71053537],\n",
       "       [172192.18240042],\n",
       "       [190893.56068521],\n",
       "       [211193.01586892],\n",
       "       [233190.72049842],\n",
       "       [256990.93028103],\n",
       "       [282702.0651773 ],\n",
       "       [310436.7904938 ],\n",
       "       [340312.09797587]])"
      ]
     },
     "metadata": {},
     "output_type": "display_data"
    },
    {
     "data": {
      "image/png": "[encoded data removed]",
      "text/plain": [
       "<Figure size 432x288 with 1 Axes>"
      ]
     },
     "metadata": {
      "needs_background": "light"
     },
     "output_type": "display_data"
    }
   ],
   "source": [
    "poly = PolynomialFeatures(degree=5)\n",
    "x_poly = poly.fit_transform(x)\n",
    "model2 = LinearRegression()\n",
    "model2.fit(x_poly, y)\n",
    "\n",
    "nx = np.array([*range(n, n+20)]).reshape(-1, 1)\n",
    "px = poly.fit_transform(nx)\n",
    "ny = model2.predict(px)\n",
    "plt.scatter(x, y)\n",
    "plt.scatter(nx, ny, color='red')\n",
    "display(ny)"
   ]
  },
  {
   "cell_type": "markdown",
   "id": "be71f033",
   "metadata": {},
   "source": [
    "## degree = 4"
   ]
  },
  {
   "cell_type": "code",
   "execution_count": 5,
   "id": "8c1e339a",
   "metadata": {},
   "outputs": [
    {
     "data": {
      "text/plain": [
       "array([[ 40832.66100108],\n",
       "       [ 46532.89102261],\n",
       "       [ 52828.5967335 ],\n",
       "       [ 59760.23048828],\n",
       "       [ 67369.57064753],\n",
       "       [ 75699.72157797],\n",
       "       [ 84795.11365243],\n",
       "       [ 94701.50324983],\n",
       "       [105465.97275522],\n",
       "       [117136.93055975],\n",
       "       [129764.11106066],\n",
       "       [143398.57466132],\n",
       "       [158092.70777121],\n",
       "       [173900.2228059 ],\n",
       "       [190876.15818709],\n",
       "       [209076.87834257],\n",
       "       [228560.07370625],\n",
       "       [249384.76071815],\n",
       "       [271611.28182437],\n",
       "       [295301.30547716],\n",
       "       [320517.82613486],\n",
       "       [347325.16426191],\n",
       "       [375788.96632887],\n",
       "       [405976.2048124 ],\n",
       "       [437955.17819528],\n",
       "       [471795.51096638],\n",
       "       [507568.1536207 ],\n",
       "       [545345.38265933],\n",
       "       [585200.80058948],\n",
       "       [627209.33592447]])"
      ]
     },
     "metadata": {},
     "output_type": "display_data"
    },
    {
     "data": {
      "image/png": "[encoded data removed]",
      "text/plain": [
       "<Figure size 432x288 with 1 Axes>"
      ]
     },
     "metadata": {
      "needs_background": "light"
     },
     "output_type": "display_data"
    }
   ],
   "source": [
    "poly = PolynomialFeatures(degree=4)\n",
    "x_poly = poly.fit_transform(x)\n",
    "model3 = LinearRegression()\n",
    "model3.fit(x_poly, y)\n",
    "\n",
    "nx = np.array([*range(n, n+30)]).reshape(-1, 1)\n",
    "px = poly.fit_transform(nx)\n",
    "ny = model3.predict(px)\n",
    "plt.scatter(x, y)\n",
    "plt.scatter(nx, ny, color='red')\n",
    "display(ny)"
   ]
  }
 ],
 "metadata": {
  "kernelspec": {
   "display_name": "Python 3 (ipykernel)",
   "language": "python",
   "name": "python3"
  },
  "language_info": {
   "codemirror_mode": {
    "name": "ipython",
    "version": 3
   },
   "file_extension": ".py",
   "mimetype": "text/x-python",
   "name": "python",
   "nbconvert_exporter": "python",
   "pygments_lexer": "ipython3",
   "version": "3.8.8"
  }
 },
 "nbformat": 4,
 "nbformat_minor": 5
}
