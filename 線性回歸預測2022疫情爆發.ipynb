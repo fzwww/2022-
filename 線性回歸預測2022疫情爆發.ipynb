{
 "cells": [
  {
   "cell_type": "code",
   "execution_count": 1,
   "id": "e12b8818",
   "metadata": {},
   "outputs": [],
   "source": [
    "from sklearn.linear_model import LinearRegression\n",
    "from sklearn.preprocessing import PolynomialFeatures\n",
    "import matplotlib.pyplot as plt\n",
    "import numpy as np"
   ]
  },
  {
   "cell_type": "markdown",
   "id": "646c46b4",
   "metadata": {},
   "source": [
    "## 原始數據"
   ]
  },
  {
   "cell_type": "code",
   "execution_count": 2,
   "id": "58189c10",
   "metadata": {},
   "outputs": [],
   "source": [
    "y = [33, 56 , 87, 104, 160 ,183, 133, 216, 281, 382, 384, 442, 431, 439, 551, 744, 874, 1209, 1199, 1210, 1390, 1626, 2386, 2969, 3766, 4126, 5172, 5221, 6339, 8923, 11517, 12313, 15033, 17085, 17858, 23139, 28460, 30035, 36168, 46377, 44294, 40263, 50780, 57188, 65385, 64972]\n",
    "n = len(y)\n",
    "x = [*range(n)]\n",
    "x = np.array(x).reshape(-1, 1)\n",
    "y = np.array(y).reshape(-1, 1)"
   ]
  },
  {
   "cell_type": "code",
   "execution_count": 3,
   "id": "27168ed5",
   "metadata": {},
   "outputs": [
    {
     "name": "stdout",
     "output_type": "stream",
     "text": [
      "45天前 [33]\n",
      "44天前 [56]\n",
      "43天前 [87]\n",
      "42天前 [104]\n",
      "41天前 [160]\n",
      "40天前 [183]\n",
      "39天前 [133]\n",
      "38天前 [216]\n",
      "37天前 [281]\n",
      "36天前 [382]\n",
      "35天前 [384]\n",
      "34天前 [442]\n",
      "33天前 [431]\n",
      "32天前 [439]\n",
      "31天前 [551]\n",
      "30天前 [744]\n",
      "29天前 [874]\n",
      "28天前 [1209]\n",
      "27天前 [1199]\n",
      "26天前 [1210]\n",
      "25天前 [1390]\n",
      "24天前 [1626]\n",
      "23天前 [2386]\n",
      "22天前 [2969]\n",
      "21天前 [3766]\n",
      "20天前 [4126]\n",
      "19天前 [5172]\n",
      "18天前 [5221]\n",
      "17天前 [6339]\n",
      "16天前 [8923]\n",
      "15天前 [11517]\n",
      "14天前 [12313]\n",
      "13天前 [15033]\n",
      "12天前 [17085]\n",
      "11天前 [17858]\n",
      "10天前 [23139]\n",
      "9天前 [28460]\n",
      "8天前 [30035]\n",
      "7天前 [36168]\n",
      "6天前 [46377]\n",
      "5天前 [44294]\n",
      "4天前 [40263]\n",
      "3天前 [50780]\n",
      "2天前 [57188]\n",
      "1天前 [65385]\n",
      "0天前 [64972]\n"
     ]
    },
    {
     "data": {
      "text/plain": [
       "<matplotlib.collections.PathCollection at 0x225b43c8880>"
      ]
     },
     "execution_count": 3,
     "metadata": {},
     "output_type": "execute_result"
    },
    {
     "data": {
      "image/png": "[encoded data removed]",
      "text/plain": [
       "<Figure size 432x288 with 1 Axes>"
      ]
     },
     "metadata": {
      "needs_background": "light"
     },
     "output_type": "display_data"
    }
   ],
   "source": [
    "print(*[f'{n-i-1}天前 {y[i]}' for i in range(n)], sep='\\n')\n",
    "plt.scatter(x, y)"
   ]
  },
  {
   "cell_type": "markdown",
   "id": "b141d020",
   "metadata": {},
   "source": [
    "## 使用多項式回歸"
   ]
  },
  {
   "cell_type": "markdown",
   "id": "5d3b03bc",
   "metadata": {},
   "source": [
    "### degree = 7"
   ]
  },
  {
   "cell_type": "code",
   "execution_count": 7,
   "id": "1692785a",
   "metadata": {},
   "outputs": [
    {
     "data": {
      "text/plain": [
       "array([[ 71405.81672423],\n",
       "       [ 76614.3029593 ],\n",
       "       [ 82144.90601263],\n",
       "       [ 88135.7006262 ],\n",
       "       [ 94772.05753046],\n",
       "       [102294.94354449],\n",
       "       [111009.99331162],\n",
       "       [121297.38349451],\n",
       "       [133622.54025439],\n",
       "       [148547.71083888],\n",
       "       [166744.43010272],\n",
       "       [189006.91278601],\n",
       "       [216266.4023741 ],\n",
       "       [249606.50736414],\n",
       "       [290279.55576199],\n",
       "       [339723.99863459],\n",
       "       [399582.89354178],\n",
       "       [471723.49867226],\n",
       "       [558258.00850809],\n",
       "       [661565.46184197]])"
      ]
     },
     "metadata": {},
     "output_type": "display_data"
    },
    {
     "data": {
      "image/png": "[encoded data removed]",
      "text/plain": [
       "<Figure size 432x288 with 1 Axes>"
      ]
     },
     "metadata": {
      "needs_background": "light"
     },
     "output_type": "display_data"
    }
   ],
   "source": [
    "poly = PolynomialFeatures(degree=7)\n",
    "x_poly = poly.fit_transform(x)\n",
    "model2 = LinearRegression()\n",
    "model2.fit(x_poly, y)\n",
    "\n",
    "nx = np.array([*range(n, n+20)]).reshape(-1, 1)\n",
    "px = poly.fit_transform(nx)\n",
    "ny = model2.predict(px)\n",
    "plt.scatter(x, y)\n",
    "plt.scatter(nx, ny, color='red')\n",
    "display(ny)"
   ]
  },
  {
   "cell_type": "markdown",
   "id": "be71f033",
   "metadata": {},
   "source": [
    "## degree = 4"
   ]
  },
  {
   "cell_type": "code",
   "execution_count": 5,
   "id": "8c1e339a",
   "metadata": {},
   "outputs": [
    {
     "data": {
      "text/plain": [
       "array([[ 74061.44267319],\n",
       "       [ 80453.53082932],\n",
       "       [ 87177.47981932],\n",
       "       [ 94239.1219001 ],\n",
       "       [101644.10562409],\n",
       "       [109397.89583916],\n",
       "       [117505.77368871],\n",
       "       [125972.83661159],\n",
       "       [134803.99834216],\n",
       "       [144003.98891024],\n",
       "       [153577.35464115],\n",
       "       [163528.45815568],\n",
       "       [173861.47837013],\n",
       "       [184580.41049625],\n",
       "       [195689.0660413 ],\n",
       "       [207191.07280802],\n",
       "       [219089.87489462],\n",
       "       [231388.73269481],\n",
       "       [244090.72289778],\n",
       "       [257198.7384882 ],\n",
       "       [270715.48874622],\n",
       "       [284643.49924748],\n",
       "       [298985.11186312],\n",
       "       [313742.48475973],\n",
       "       [328917.59239941],\n",
       "       [344512.22553974],\n",
       "       [360527.99123377],\n",
       "       [376966.31283006],\n",
       "       [393828.42997263],\n",
       "       [411115.39860099]])"
      ]
     },
     "metadata": {},
     "output_type": "display_data"
    },
    {
     "data": {
      "image/png": "[encoded data removed]",
      "text/plain": [
       "<Figure size 432x288 with 1 Axes>"
      ]
     },
     "metadata": {
      "needs_background": "light"
     },
     "output_type": "display_data"
    }
   ],
   "source": [
    "poly = PolynomialFeatures(degree=4)\n",
    "x_poly = poly.fit_transform(x)\n",
    "model3 = LinearRegression()\n",
    "model3.fit(x_poly, y)\n",
    "\n",
    "nx = np.array([*range(n, n+30)]).reshape(-1, 1)\n",
    "px = poly.fit_transform(nx)\n",
    "ny = model3.predict(px)\n",
    "plt.scatter(x, y)\n",
    "plt.scatter(nx, ny, color='red')\n",
    "display(ny)"
   ]
  }
 ],
 "metadata": {
  "kernelspec": {
   "display_name": "Python 3 (ipykernel)",
   "language": "python",
   "name": "python3"
  },
  "language_info": {
   "codemirror_mode": {
    "name": "ipython",
    "version": 3
   },
   "file_extension": ".py",
   "mimetype": "text/x-python",
   "name": "python",
   "nbconvert_exporter": "python",
   "pygments_lexer": "ipython3",
   "version": "3.8.8"
  }
 },
 "nbformat": 4,
 "nbformat_minor": 5
}
