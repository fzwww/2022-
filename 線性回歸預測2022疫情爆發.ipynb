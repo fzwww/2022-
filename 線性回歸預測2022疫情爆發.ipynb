{
 "cells": [
  {
   "cell_type": "code",
   "execution_count": 1,
   "id": "e12b8818",
   "metadata": {},
   "outputs": [],
   "source": [
    "from sklearn.linear_model import LinearRegression\n",
    "from sklearn.preprocessing import PolynomialFeatures\n",
    "import matplotlib.pyplot as plt\n",
    "import numpy as np"
   ]
  },
  {
   "cell_type": "markdown",
   "id": "646c46b4",
   "metadata": {},
   "source": [
    "## 原始數據"
   ]
  },
  {
   "cell_type": "code",
   "execution_count": 2,
   "id": "58189c10",
   "metadata": {},
   "outputs": [],
   "source": [
    "n = 37\n",
    "x = [*range(n)]\n",
    "y = [33, 56 , 87, 104, 160 ,183, 133, 216, 281, 382, 384, 442, 431, 439, 551, 744, 874, 1209, 1199, 1210, 1390, 1626, 2386, 2969, 3766, 4126, 5172, 5221, 6339, 8923, 11517, 12313, 15033, 17085, 17858, 23139, 28460]\n",
    "x = np.array(x).reshape(-1, 1)\n",
    "y = np.array(y).reshape(-1, 1)"
   ]
  },
  {
   "cell_type": "code",
   "execution_count": 3,
   "id": "27168ed5",
   "metadata": {},
   "outputs": [
    {
     "name": "stdout",
     "output_type": "stream",
     "text": [
      "36天前 [33]\n",
      "35天前 [56]\n",
      "34天前 [87]\n",
      "33天前 [104]\n",
      "32天前 [160]\n",
      "31天前 [183]\n",
      "30天前 [133]\n",
      "29天前 [216]\n",
      "28天前 [281]\n",
      "27天前 [382]\n",
      "26天前 [384]\n",
      "25天前 [442]\n",
      "24天前 [431]\n",
      "23天前 [439]\n",
      "22天前 [551]\n",
      "21天前 [744]\n",
      "20天前 [874]\n",
      "19天前 [1209]\n",
      "18天前 [1199]\n",
      "17天前 [1210]\n",
      "16天前 [1390]\n",
      "15天前 [1626]\n",
      "14天前 [2386]\n",
      "13天前 [2969]\n",
      "12天前 [3766]\n",
      "11天前 [4126]\n",
      "10天前 [5172]\n",
      "9天前 [5221]\n",
      "8天前 [6339]\n",
      "7天前 [8923]\n",
      "6天前 [11517]\n",
      "5天前 [12313]\n",
      "4天前 [15033]\n",
      "3天前 [17085]\n",
      "2天前 [17858]\n",
      "1天前 [23139]\n",
      "0天前 [28460]\n"
     ]
    },
    {
     "data": {
      "text/plain": [
       "<matplotlib.collections.PathCollection at 0x283aa358c40>"
      ]
     },
     "execution_count": 3,
     "metadata": {},
     "output_type": "execute_result"
    },
    {
     "data": {
      "image/png": "[encoded data removed]",
      "text/plain": [
       "<Figure size 432x288 with 1 Axes>"
      ]
     },
     "metadata": {
      "needs_background": "light"
     },
     "output_type": "display_data"
    }
   ],
   "source": [
    "print(*[f'{n-i-1}天前 {y[i]}' for i in range(n)], sep='\\n')\n",
    "plt.scatter(x, y)"
   ]
  },
  {
   "cell_type": "markdown",
   "id": "b141d020",
   "metadata": {},
   "source": [
    "## 使用多項式回歸"
   ]
  },
  {
   "cell_type": "markdown",
   "id": "5d3b03bc",
   "metadata": {},
   "source": [
    "### degree = 5"
   ]
  },
  {
   "cell_type": "code",
   "execution_count": 4,
   "id": "1692785a",
   "metadata": {},
   "outputs": [
    {
     "data": {
      "text/plain": [
       "array([[ 32031.88044332],\n",
       "       [ 37247.43288241],\n",
       "       [ 43172.93235722],\n",
       "       [ 49882.44720494],\n",
       "       [ 57455.22194292],\n",
       "       [ 65975.85652215],\n",
       "       [ 75534.48558056],\n",
       "       [ 86226.95769649],\n",
       "       [ 98155.01464202],\n",
       "       [111426.47063637],\n",
       "       [126155.39159935],\n",
       "       [142462.27440465],\n",
       "       [160474.22613333],\n",
       "       [180325.14332713],\n",
       "       [202155.89124192],\n",
       "       [226114.48310106],\n",
       "       [252356.25934879],\n",
       "       [281044.06690364],\n",
       "       [312348.4384118 ],\n",
       "       [346447.77150052]])"
      ]
     },
     "metadata": {},
     "output_type": "display_data"
    },
    {
     "data": {
      "image/png": "[encoded data removed]",
      "text/plain": [
       "<Figure size 432x288 with 1 Axes>"
      ]
     },
     "metadata": {
      "needs_background": "light"
     },
     "output_type": "display_data"
    }
   ],
   "source": [
    "poly = PolynomialFeatures(degree=5)\n",
    "x_poly = poly.fit_transform(x)\n",
    "model2 = LinearRegression()\n",
    "model2.fit(x_poly, y)\n",
    "\n",
    "nx = np.array([*range(n, n+20)]).reshape(-1, 1)\n",
    "px = poly.fit_transform(nx)\n",
    "ny = model2.predict(px)\n",
    "plt.scatter(x, y)\n",
    "plt.scatter(nx, ny, color='red')\n",
    "display(ny)"
   ]
  },
  {
   "cell_type": "markdown",
   "id": "be71f033",
   "metadata": {},
   "source": [
    "## degree = 4"
   ]
  },
  {
   "cell_type": "code",
   "execution_count": 5,
   "id": "8c1e339a",
   "metadata": {},
   "outputs": [
    {
     "data": {
      "text/plain": [
       "array([[ 31426.78074866],\n",
       "       [ 36164.6229021 ],\n",
       "       [ 41440.92634766],\n",
       "       [ 47295.46227378],\n",
       "       [ 53769.41372793],\n",
       "       [ 60905.37561655],\n",
       "       [ 68747.35470509],\n",
       "       [ 77340.769618  ],\n",
       "       [ 86732.45083873],\n",
       "       [ 96970.64070972],\n",
       "       [108104.99343241],\n",
       "       [120186.57506727],\n",
       "       [133267.86353372],\n",
       "       [147402.74861021],\n",
       "       [162646.53193418],\n",
       "       [179055.92700207],\n",
       "       [196689.05916933],\n",
       "       [215605.46565038],\n",
       "       [235866.09551868],\n",
       "       [257533.30970665]])"
      ]
     },
     "metadata": {},
     "output_type": "display_data"
    },
    {
     "data": {
      "image/png": "[encoded data removed]",
      "text/plain": [
       "<Figure size 432x288 with 1 Axes>"
      ]
     },
     "metadata": {
      "needs_background": "light"
     },
     "output_type": "display_data"
    }
   ],
   "source": [
    "poly = PolynomialFeatures(degree=4)\n",
    "x_poly = poly.fit_transform(x)\n",
    "model3 = LinearRegression()\n",
    "model3.fit(x_poly, y)\n",
    "\n",
    "nx = np.array([*range(n, n+20)]).reshape(-1, 1)\n",
    "px = poly.fit_transform(nx)\n",
    "ny = model3.predict(px)\n",
    "plt.scatter(x, y)\n",
    "plt.scatter(nx, ny, color='red')\n",
    "display(ny)"
   ]
  }
 ],
 "metadata": {
  "kernelspec": {
   "display_name": "Python 3 (ipykernel)",
   "language": "python",
   "name": "python3"
  },
  "language_info": {
   "codemirror_mode": {
    "name": "ipython",
    "version": 3
   },
   "file_extension": ".py",
   "mimetype": "text/x-python",
   "name": "python",
   "nbconvert_exporter": "python",
   "pygments_lexer": "ipython3",
   "version": "3.8.8"
  }
 },
 "nbformat": 4,
 "nbformat_minor": 5
}
