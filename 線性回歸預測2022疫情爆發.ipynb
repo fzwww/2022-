{
 "cells": [
  {
   "cell_type": "code",
   "execution_count": 1,
   "id": "e12b8818",
   "metadata": {},
   "outputs": [],
   "source": [
    "from sklearn.linear_model import LinearRegression\n",
    "from sklearn.preprocessing import PolynomialFeatures\n",
    "import matplotlib.pyplot as plt\n",
    "import numpy as np"
   ]
  },
  {
   "cell_type": "markdown",
   "id": "646c46b4",
   "metadata": {},
   "source": [
    "## 原始數據"
   ]
  },
  {
   "cell_type": "code",
   "execution_count": 2,
   "id": "58189c10",
   "metadata": {},
   "outputs": [],
   "source": [
    "n = 34\n",
    "x = [*range(n)]\n",
    "y = [33, 56 , 87, 104, 160 ,183, 133, 216, 281, 382, 384, 442, 431, 439, 551, 744, 874, 1209, 1199, 1210, 1390, 1626, 2386, 2969, 3766, 4126, 5172, 5221, 6339, 8923, 11517, 12313, 15033, 17085]\n",
    "x = np.array(x).reshape(-1, 1)\n",
    "y = np.array(y).reshape(-1, 1)"
   ]
  },
  {
   "cell_type": "code",
   "execution_count": 3,
   "id": "27168ed5",
   "metadata": {},
   "outputs": [
    {
     "name": "stdout",
     "output_type": "stream",
     "text": [
      "33天前 [33]\n",
      "32天前 [56]\n",
      "31天前 [87]\n",
      "30天前 [104]\n",
      "29天前 [160]\n",
      "28天前 [183]\n",
      "27天前 [133]\n",
      "26天前 [216]\n",
      "25天前 [281]\n",
      "24天前 [382]\n",
      "23天前 [384]\n",
      "22天前 [442]\n",
      "21天前 [431]\n",
      "20天前 [439]\n",
      "19天前 [551]\n",
      "18天前 [744]\n",
      "17天前 [874]\n",
      "16天前 [1209]\n",
      "15天前 [1199]\n",
      "14天前 [1210]\n",
      "13天前 [1390]\n",
      "12天前 [1626]\n",
      "11天前 [2386]\n",
      "10天前 [2969]\n",
      "9天前 [3766]\n",
      "8天前 [4126]\n",
      "7天前 [5172]\n",
      "6天前 [5221]\n",
      "5天前 [6339]\n",
      "4天前 [8923]\n",
      "3天前 [11517]\n",
      "2天前 [12313]\n",
      "1天前 [15033]\n",
      "0天前 [17085]\n"
     ]
    },
    {
     "data": {
      "text/plain": [
       "<matplotlib.collections.PathCollection at 0x1fce1fb8c40>"
      ]
     },
     "execution_count": 3,
     "metadata": {},
     "output_type": "execute_result"
    },
    {
     "data": {
      "image/png": "[encoded data removed]",
      "text/plain": [
       "<Figure size 432x288 with 1 Axes>"
      ]
     },
     "metadata": {
      "needs_background": "light"
     },
     "output_type": "display_data"
    }
   ],
   "source": [
    "print(*[f'{n-i-1}天前 {y[i]}' for i in range(n)], sep='\\n')\n",
    "plt.scatter(x, y)"
   ]
  },
  {
   "cell_type": "markdown",
   "id": "b141d020",
   "metadata": {},
   "source": [
    "## 使用多項式回歸"
   ]
  },
  {
   "cell_type": "markdown",
   "id": "5d3b03bc",
   "metadata": {},
   "source": [
    "### degree = 5"
   ]
  },
  {
   "cell_type": "code",
   "execution_count": 4,
   "id": "1692785a",
   "metadata": {},
   "outputs": [
    {
     "data": {
      "text/plain": [
       "array([[ 20473.85084885],\n",
       "       [ 23938.55666278],\n",
       "       [ 27866.754721  ],\n",
       "       [ 32302.20540588],\n",
       "       [ 37291.17000353],\n",
       "       [ 42882.47265264],\n",
       "       [ 49127.56229335],\n",
       "       [ 56080.57461609],\n",
       "       [ 63798.39401045],\n",
       "       [ 72340.71551403],\n",
       "       [ 81770.1067613 ],\n",
       "       [ 92152.06993245],\n",
       "       [103555.10370224],\n",
       "       [116050.76518889],\n",
       "       [129713.73190287],\n",
       "       [144621.86369582],\n",
       "       [160856.26470937],\n",
       "       [178501.34532403],\n",
       "       [197644.88410798],\n",
       "       [218378.089766  ]])"
      ]
     },
     "metadata": {},
     "output_type": "display_data"
    },
    {
     "data": {
      "image/png": "[encoded data removed]",
      "text/plain": [
       "<Figure size 432x288 with 1 Axes>"
      ]
     },
     "metadata": {
      "needs_background": "light"
     },
     "output_type": "display_data"
    }
   ],
   "source": [
    "poly = PolynomialFeatures(degree=5)\n",
    "x_poly = poly.fit_transform(x)\n",
    "model2 = LinearRegression()\n",
    "model2.fit(x_poly, y)\n",
    "\n",
    "nx = np.array([*range(n, n+20)]).reshape(-1, 1)\n",
    "px = poly.fit_transform(nx)\n",
    "ny = model2.predict(px)\n",
    "plt.scatter(x, y)\n",
    "plt.scatter(nx, ny, color='red')\n",
    "display(ny)"
   ]
  },
  {
   "cell_type": "markdown",
   "id": "be71f033",
   "metadata": {},
   "source": [
    "## degree = 4"
   ]
  },
  {
   "cell_type": "code",
   "execution_count": 5,
   "id": "8c1e339a",
   "metadata": {},
   "outputs": [
    {
     "data": {
      "text/plain": [
       "array([[ 20332.31320081],\n",
       "       [ 23675.70103072],\n",
       "       [ 27435.40188893],\n",
       "       [ 31644.97524623],\n",
       "       [ 36339.27347447],\n",
       "       [ 41554.44184657],\n",
       "       [ 47327.91853645],\n",
       "       [ 53698.43461911],\n",
       "       [ 60706.01407059],\n",
       "       [ 68391.97376797],\n",
       "       [ 76798.9234894 ],\n",
       "       [ 85970.76591403],\n",
       "       [ 95952.69662211],\n",
       "       [106791.2040949 ],\n",
       "       [118534.06971472],\n",
       "       [131230.36776495],\n",
       "       [144930.46542998],\n",
       "       [159686.02279529],\n",
       "       [175549.99284738],\n",
       "       [192576.62147379]])"
      ]
     },
     "metadata": {},
     "output_type": "display_data"
    },
    {
     "data": {
      "image/png": "[encoded data removed]",
      "text/plain": [
       "<Figure size 432x288 with 1 Axes>"
      ]
     },
     "metadata": {
      "needs_background": "light"
     },
     "output_type": "display_data"
    }
   ],
   "source": [
    "poly = PolynomialFeatures(degree=4)\n",
    "x_poly = poly.fit_transform(x)\n",
    "model3 = LinearRegression()\n",
    "model3.fit(x_poly, y)\n",
    "\n",
    "nx = np.array([*range(n, n+20)]).reshape(-1, 1)\n",
    "px = poly.fit_transform(nx)\n",
    "ny = model3.predict(px)\n",
    "plt.scatter(x, y)\n",
    "plt.scatter(nx, ny, color='red')\n",
    "display(ny)"
   ]
  }
 ],
 "metadata": {
  "kernelspec": {
   "display_name": "Python 3 (ipykernel)",
   "language": "python",
   "name": "python3"
  },
  "language_info": {
   "codemirror_mode": {
    "name": "ipython",
    "version": 3
   },
   "file_extension": ".py",
   "mimetype": "text/x-python",
   "name": "python",
   "nbconvert_exporter": "python",
   "pygments_lexer": "ipython3",
   "version": "3.8.8"
  }
 },
 "nbformat": 4,
 "nbformat_minor": 5
}
