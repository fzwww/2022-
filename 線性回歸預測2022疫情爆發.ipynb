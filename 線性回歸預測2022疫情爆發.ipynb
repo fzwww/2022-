{
 "cells": [
  {
   "cell_type": "code",
   "execution_count": 1,
   "id": "e12b8818",
   "metadata": {},
   "outputs": [],
   "source": [
    "from sklearn.linear_model import LinearRegression\n",
    "from sklearn.preprocessing import PolynomialFeatures\n",
    "import matplotlib.pyplot as plt\n",
    "import numpy as np"
   ]
  },
  {
   "cell_type": "markdown",
   "id": "646c46b4",
   "metadata": {},
   "source": [
    "## 原始數據"
   ]
  },
  {
   "cell_type": "code",
   "execution_count": 2,
   "id": "58189c10",
   "metadata": {},
   "outputs": [],
   "source": [
    "n = 38\n",
    "x = [*range(n)]\n",
    "y = [33, 56 , 87, 104, 160 ,183, 133, 216, 281, 382, 384, 442, 431, 439, 551, 744, 874, 1209, 1199, 1210, 1390, 1626, 2386, 2969, 3766, 4126, 5172, 5221, 6339, 8923, 11517, 12313, 15033, 17085, 17858, 23139, 28460, 30035]\n",
    "x = np.array(x).reshape(-1, 1)\n",
    "y = np.array(y).reshape(-1, 1)"
   ]
  },
  {
   "cell_type": "code",
   "execution_count": 3,
   "id": "27168ed5",
   "metadata": {},
   "outputs": [
    {
     "name": "stdout",
     "output_type": "stream",
     "text": [
      "37天前 [33]\n",
      "36天前 [56]\n",
      "35天前 [87]\n",
      "34天前 [104]\n",
      "33天前 [160]\n",
      "32天前 [183]\n",
      "31天前 [133]\n",
      "30天前 [216]\n",
      "29天前 [281]\n",
      "28天前 [382]\n",
      "27天前 [384]\n",
      "26天前 [442]\n",
      "25天前 [431]\n",
      "24天前 [439]\n",
      "23天前 [551]\n",
      "22天前 [744]\n",
      "21天前 [874]\n",
      "20天前 [1209]\n",
      "19天前 [1199]\n",
      "18天前 [1210]\n",
      "17天前 [1390]\n",
      "16天前 [1626]\n",
      "15天前 [2386]\n",
      "14天前 [2969]\n",
      "13天前 [3766]\n",
      "12天前 [4126]\n",
      "11天前 [5172]\n",
      "10天前 [5221]\n",
      "9天前 [6339]\n",
      "8天前 [8923]\n",
      "7天前 [11517]\n",
      "6天前 [12313]\n",
      "5天前 [15033]\n",
      "4天前 [17085]\n",
      "3天前 [17858]\n",
      "2天前 [23139]\n",
      "1天前 [28460]\n",
      "0天前 [30035]\n"
     ]
    },
    {
     "data": {
      "text/plain": [
       "<matplotlib.collections.PathCollection at 0x2a4fd4d5850>"
      ]
     },
     "execution_count": 3,
     "metadata": {},
     "output_type": "execute_result"
    },
    {
     "data": {
      "image/png": "[encoded data removed]",
      "text/plain": [
       "<Figure size 432x288 with 1 Axes>"
      ]
     },
     "metadata": {
      "needs_background": "light"
     },
     "output_type": "display_data"
    }
   ],
   "source": [
    "print(*[f'{n-i-1}天前 {y[i]}' for i in range(n)], sep='\\n')\n",
    "plt.scatter(x, y)"
   ]
  },
  {
   "cell_type": "markdown",
   "id": "b141d020",
   "metadata": {},
   "source": [
    "## 使用多項式回歸"
   ]
  },
  {
   "cell_type": "markdown",
   "id": "5d3b03bc",
   "metadata": {},
   "source": [
    "### degree = 5"
   ]
  },
  {
   "cell_type": "code",
   "execution_count": 4,
   "id": "1692785a",
   "metadata": {},
   "outputs": [
    {
     "data": {
      "text/plain": [
       "array([[ 35355.6514096 ],\n",
       "       [ 40432.27458227],\n",
       "       [ 46066.54611391],\n",
       "       [ 52300.44278177],\n",
       "       [ 59177.74748816],\n",
       "       [ 66744.07718663],\n",
       "       [ 75046.91080834],\n",
       "       [ 84135.61718827],\n",
       "       [ 94061.48299156],\n",
       "       [104877.74063974],\n",
       "       [116639.59623704],\n",
       "       [129404.25749666],\n",
       "       [143230.96166706],\n",
       "       [158181.00345824],\n",
       "       [174317.76296799],\n",
       "       [191706.73360821],\n",
       "       [210415.55003118],\n",
       "       [230514.01605583],\n",
       "       [252074.13259402],\n",
       "       [275170.12557684]])"
      ]
     },
     "metadata": {},
     "output_type": "display_data"
    },
    {
     "data": {
      "image/png": "[encoded data removed]",
      "text/plain": [
       "<Figure size 432x288 with 1 Axes>"
      ]
     },
     "metadata": {
      "needs_background": "light"
     },
     "output_type": "display_data"
    }
   ],
   "source": [
    "poly = PolynomialFeatures(degree=5)\n",
    "x_poly = poly.fit_transform(x)\n",
    "model2 = LinearRegression()\n",
    "model2.fit(x_poly, y)\n",
    "\n",
    "nx = np.array([*range(n, n+20)]).reshape(-1, 1)\n",
    "px = poly.fit_transform(nx)\n",
    "ny = model2.predict(px)\n",
    "plt.scatter(x, y)\n",
    "plt.scatter(nx, ny, color='red')\n",
    "display(ny)"
   ]
  },
  {
   "cell_type": "markdown",
   "id": "be71f033",
   "metadata": {},
   "source": [
    "## degree = 4"
   ]
  },
  {
   "cell_type": "code",
   "execution_count": 5,
   "id": "8c1e339a",
   "metadata": {},
   "outputs": [
    {
     "data": {
      "text/plain": [
       "array([[ 35248.97767272],\n",
       "       [ 40243.54412462],\n",
       "       [ 45767.0390832 ],\n",
       "       [ 51855.83545212],\n",
       "       [ 58547.51184501],\n",
       "       [ 65880.85258549],\n",
       "       [ 73895.84770715],\n",
       "       [ 82633.69295357],\n",
       "       [ 92136.78977831],\n",
       "       [102448.74534488],\n",
       "       [113614.37252682],\n",
       "       [125679.6899076 ],\n",
       "       [138691.9217807 ],\n",
       "       [152699.49814957],\n",
       "       [167752.05472764],\n",
       "       [183900.43293832],\n",
       "       [201196.67991499],\n",
       "       [219694.04850102],\n",
       "       [239446.99724976],\n",
       "       [260511.19042453]])"
      ]
     },
     "metadata": {},
     "output_type": "display_data"
    },
    {
     "data": {
      "image/png": "[encoded data removed]",
      "text/plain": [
       "<Figure size 432x288 with 1 Axes>"
      ]
     },
     "metadata": {
      "needs_background": "light"
     },
     "output_type": "display_data"
    }
   ],
   "source": [
    "poly = PolynomialFeatures(degree=4)\n",
    "x_poly = poly.fit_transform(x)\n",
    "model3 = LinearRegression()\n",
    "model3.fit(x_poly, y)\n",
    "\n",
    "nx = np.array([*range(n, n+20)]).reshape(-1, 1)\n",
    "px = poly.fit_transform(nx)\n",
    "ny = model3.predict(px)\n",
    "plt.scatter(x, y)\n",
    "plt.scatter(nx, ny, color='red')\n",
    "display(ny)"
   ]
  }
 ],
 "metadata": {
  "kernelspec": {
   "display_name": "Python 3 (ipykernel)",
   "language": "python",
   "name": "python3"
  },
  "language_info": {
   "codemirror_mode": {
    "name": "ipython",
    "version": 3
   },
   "file_extension": ".py",
   "mimetype": "text/x-python",
   "name": "python",
   "nbconvert_exporter": "python",
   "pygments_lexer": "ipython3",
   "version": "3.8.8"
  }
 },
 "nbformat": 4,
 "nbformat_minor": 5
}
