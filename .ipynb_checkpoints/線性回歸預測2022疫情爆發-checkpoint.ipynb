{
 "cells": [
  {
   "cell_type": "code",
   "execution_count": 1,
   "id": "e12b8818",
   "metadata": {},
   "outputs": [],
   "source": [
    "from sklearn.linear_model import LinearRegression\n",
    "from sklearn.preprocessing import PolynomialFeatures\n",
    "import matplotlib.pyplot as plt\n",
    "import numpy as np"
   ]
  },
  {
   "cell_type": "markdown",
   "id": "646c46b4",
   "metadata": {},
   "source": [
    "## 原始數據"
   ]
  },
  {
   "cell_type": "code",
   "execution_count": 2,
   "id": "58189c10",
   "metadata": {},
   "outputs": [
    {
     "ename": "NameError",
     "evalue": "name 'n' is not defined",
     "output_type": "error",
     "traceback": [
      "\u001b[1;31m---------------------------------------------------------------------------\u001b[0m",
      "\u001b[1;31mNameError\u001b[0m                                 Traceback (most recent call last)",
      "Input \u001b[1;32mIn [2]\u001b[0m, in \u001b[0;36m<cell line: 1>\u001b[1;34m()\u001b[0m\n\u001b[1;32m----> 1\u001b[0m x \u001b[38;5;241m=\u001b[39m [\u001b[38;5;241m*\u001b[39m\u001b[38;5;28mrange\u001b[39m(\u001b[43mn\u001b[49m)]\n\u001b[0;32m      2\u001b[0m y \u001b[38;5;241m=\u001b[39m [\u001b[38;5;241m33\u001b[39m, \u001b[38;5;241m56\u001b[39m , \u001b[38;5;241m87\u001b[39m, \u001b[38;5;241m104\u001b[39m, \u001b[38;5;241m160\u001b[39m ,\u001b[38;5;241m183\u001b[39m, \u001b[38;5;241m133\u001b[39m, \u001b[38;5;241m216\u001b[39m, \u001b[38;5;241m281\u001b[39m, \u001b[38;5;241m382\u001b[39m, \u001b[38;5;241m384\u001b[39m, \u001b[38;5;241m442\u001b[39m, \u001b[38;5;241m431\u001b[39m, \u001b[38;5;241m439\u001b[39m, \u001b[38;5;241m551\u001b[39m, \u001b[38;5;241m744\u001b[39m, \u001b[38;5;241m874\u001b[39m, \u001b[38;5;241m1209\u001b[39m, \u001b[38;5;241m1199\u001b[39m, \u001b[38;5;241m1210\u001b[39m, \u001b[38;5;241m1390\u001b[39m, \u001b[38;5;241m1626\u001b[39m, \u001b[38;5;241m2386\u001b[39m, \u001b[38;5;241m2969\u001b[39m, \u001b[38;5;241m3766\u001b[39m, \u001b[38;5;241m4126\u001b[39m, \u001b[38;5;241m5172\u001b[39m, \u001b[38;5;241m5221\u001b[39m, \u001b[38;5;241m6339\u001b[39m, \u001b[38;5;241m8923\u001b[39m, \u001b[38;5;241m11517\u001b[39m, \u001b[38;5;241m12313\u001b[39m, \u001b[38;5;241m15033\u001b[39m, \u001b[38;5;241m17085\u001b[39m, \u001b[38;5;241m17858\u001b[39m, \u001b[38;5;241m23139\u001b[39m, \u001b[38;5;241m28460\u001b[39m, \u001b[38;5;241m30035\u001b[39m, \u001b[38;5;241m36168\u001b[39m, \u001b[38;5;241m46377\u001b[39m, \u001b[38;5;241m44294\u001b[39m]\n\u001b[0;32m      3\u001b[0m n \u001b[38;5;241m=\u001b[39m \u001b[38;5;28mlen\u001b[39m(y)\n",
      "\u001b[1;31mNameError\u001b[0m: name 'n' is not defined"
     ]
    }
   ],
   "source": [
    "y = [33, 56 , 87, 104, 160 ,183, 133, 216, 281, 382, 384, 442, 431, 439, 551, 744, 874, 1209, 1199, 1210, 1390, 1626, 2386, 2969, 3766, 4126, 5172, 5221, 6339, 8923, 11517, 12313, 15033, 17085, 17858, 23139, 28460, 30035, 36168, 46377, 44294]\n",
    "n = len(y)\n",
    "x = [*range(n)]\n",
    "x = np.array(x).reshape(-1, 1)\n",
    "y = np.array(y).reshape(-1, 1)"
   ]
  },
  {
   "cell_type": "code",
   "execution_count": null,
   "id": "27168ed5",
   "metadata": {},
   "outputs": [],
   "source": [
    "print(*[f'{n-i-1}天前 {y[i]}' for i in range(n)], sep='\\n')\n",
    "plt.scatter(x, y)"
   ]
  },
  {
   "cell_type": "markdown",
   "id": "b141d020",
   "metadata": {},
   "source": [
    "## 使用多項式回歸"
   ]
  },
  {
   "cell_type": "markdown",
   "id": "5d3b03bc",
   "metadata": {},
   "source": [
    "### degree = 5"
   ]
  },
  {
   "cell_type": "code",
   "execution_count": null,
   "id": "1692785a",
   "metadata": {},
   "outputs": [],
   "source": [
    "poly = PolynomialFeatures(degree=5)\n",
    "x_poly = poly.fit_transform(x)\n",
    "model2 = LinearRegression()\n",
    "model2.fit(x_poly, y)\n",
    "\n",
    "nx = np.array([*range(n, n+20)]).reshape(-1, 1)\n",
    "px = poly.fit_transform(nx)\n",
    "ny = model2.predict(px)\n",
    "plt.scatter(x, y)\n",
    "plt.scatter(nx, ny, color='red')\n",
    "display(ny)"
   ]
  },
  {
   "cell_type": "markdown",
   "id": "be71f033",
   "metadata": {},
   "source": [
    "## degree = 4"
   ]
  },
  {
   "cell_type": "code",
   "execution_count": null,
   "id": "8c1e339a",
   "metadata": {},
   "outputs": [],
   "source": [
    "poly = PolynomialFeatures(degree=4)\n",
    "x_poly = poly.fit_transform(x)\n",
    "model3 = LinearRegression()\n",
    "model3.fit(x_poly, y)\n",
    "\n",
    "nx = np.array([*range(n, n+30)]).reshape(-1, 1)\n",
    "px = poly.fit_transform(nx)\n",
    "ny = model3.predict(px)\n",
    "plt.scatter(x, y)\n",
    "plt.scatter(nx, ny, color='red')\n",
    "display(ny)"
   ]
  }
 ],
 "metadata": {
  "kernelspec": {
   "display_name": "Python 3 (ipykernel)",
   "language": "python",
   "name": "python3"
  },
  "language_info": {
   "codemirror_mode": {
    "name": "ipython",
    "version": 3
   },
   "file_extension": ".py",
   "mimetype": "text/x-python",
   "name": "python",
   "nbconvert_exporter": "python",
   "pygments_lexer": "ipython3",
   "version": "3.8.8"
  }
 },
 "nbformat": 4,
 "nbformat_minor": 5
}
